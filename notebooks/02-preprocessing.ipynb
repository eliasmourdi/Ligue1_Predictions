{
 "cells": [
  {
   "cell_type": "markdown",
   "id": "93839e36-3154-40da-932a-23a36e4a68d4",
   "metadata": {},
   "source": [
    "Plusieurs types d'indicateurs vont être construits :\n",
    "\n",
    "- des indicateurs de performances récentes\n",
    "- des indicateurs de performances passées, sur la base des données d'historisation récupérées\n",
    "- des indicateurs sur les confrontations directes entre les deux clubs\n",
    "- des facteurs externes pouvant influencer le résultat d'un match (TODO)"
   ]
  },
  {
   "cell_type": "code",
   "execution_count": null,
   "id": "f6fda95c-b047-4a7b-aeb5-d8f74dfb1c2a",
   "metadata": {},
   "outputs": [],
   "source": []
  },
  {
   "cell_type": "code",
   "execution_count": null,
   "id": "b8165471-9f84-460a-967e-8ac9534ffcb0",
   "metadata": {},
   "outputs": [],
   "source": [
    "import sys\n",
    "import os\n",
    "import pandas as pd\n",
    "\n",
    "sys.path.append(os.path.abspath(\"..\"))\n",
    "\n",
    "from src.preprocessing import creation_betting_odd_variable, "
   ]
  },
  {
   "cell_type": "code",
   "execution_count": null,
   "id": "d86de490-2415-4006-99e8-d8ee5321b804",
   "metadata": {},
   "outputs": [],
   "source": []
  },
  {
   "cell_type": "code",
   "execution_count": 8,
   "id": "4d365e19-f724-4b6b-a65d-d71c02bf5edc",
   "metadata": {},
   "outputs": [
    {
     "data": {
      "text/plain": [
       "0"
      ]
     },
     "execution_count": 8,
     "metadata": {},
     "output_type": "execute_result"
    }
   ],
   "source": [
    "len([1, 2, 3]) % 3"
   ]
  },
  {
   "cell_type": "code",
   "execution_count": 15,
   "id": "2b240eb7-b4b6-40ff-99ed-7e5c19a9cbe5",
   "metadata": {},
   "outputs": [
    {
     "data": {
      "text/plain": [
       "True"
      ]
     },
     "execution_count": 15,
     "metadata": {},
     "output_type": "execute_result"
    }
   ],
   "source": [
    "1 != 2 != 3"
   ]
  },
  {
   "cell_type": "code",
   "execution_count": null,
   "id": "8aa54576-411c-47b9-81e1-c7779079c4f0",
   "metadata": {},
   "outputs": [],
   "source": []
  },
  {
   "cell_type": "code",
   "execution_count": null,
   "id": "a561c4f6-9b97-4d92-89d7-becb1ca20431",
   "metadata": {},
   "outputs": [],
   "source": []
  }
 ],
 "metadata": {
  "kernelspec": {
   "display_name": "ligue1_pred_venv_v2",
   "language": "python",
   "name": "ligue1_pred_venv"
  },
  "language_info": {
   "codemirror_mode": {
    "name": "ipython",
    "version": 3
   },
   "file_extension": ".py",
   "mimetype": "text/x-python",
   "name": "python",
   "nbconvert_exporter": "python",
   "pygments_lexer": "ipython3",
   "version": "3.11.4"
  }
 },
 "nbformat": 4,
 "nbformat_minor": 5
}
