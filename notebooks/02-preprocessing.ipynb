{
 "cells": [
  {
   "cell_type": "markdown",
   "id": "93839e36-3154-40da-932a-23a36e4a68d4",
   "metadata": {},
   "source": [
    "Plusieurs types d'indicateurs vont être construits :\n",
    "\n",
    "- des indicateurs de performances récentes\n",
    "- des indicateurs de performances passées, sur la base des données d'historisation récupérées\n",
    "- des indicateurs sur les confrontations directes entre les deux clubs\n",
    "- des facteurs externes pouvant influencer le résultat d'un match (TODO)"
   ]
  },
  {
   "cell_type": "code",
   "execution_count": 1,
   "id": "51295b8d-17bb-4944-ad76-09ae8abe7d76",
   "metadata": {},
   "outputs": [],
   "source": [
    "import os\n",
    "import sys\n",
    "root_path = os.path.abspath(os.path.join(os.getcwd(), \"..\"))\n",
    "sys.path.append(root_path)\n",
    "\n",
    "import pandas as pd\n",
    "\n",
    "from src.config import load_config\n",
    "from src.preprocessing import Preprocessing\n",
    "import src.utils\n",
    "\n",
    "\n",
    "# config.yaml importation\n",
    "config_file = 'config.yaml'\n",
    "config_path = os.path.join(root_path, config_file)\n",
    "config = load_config(config_path)"
   ]
  },
  {
   "cell_type": "code",
   "execution_count": null,
   "id": "4ee5b59e-6885-411e-9245-56a4ca396450",
   "metadata": {},
   "outputs": [],
   "source": []
  },
  {
   "cell_type": "code",
   "execution_count": null,
   "id": "f1e3cb0c-208e-496c-9df3-f217c60817d2",
   "metadata": {},
   "outputs": [],
   "source": []
  },
  {
   "cell_type": "code",
   "execution_count": 2,
   "id": "c7af180f-f8be-4ad0-b387-af169b9f0d6c",
   "metadata": {},
   "outputs": [],
   "source": [
    "cleaned_data_path = os.path.join(root_path, config['cleaned_dir'])\n",
    "test_df = pd.read_csv(cleaned_data_path+'/cleaned_df_test.csv')"
   ]
  },
  {
   "cell_type": "code",
   "execution_count": 3,
   "id": "a561c4f6-9b97-4d92-89d7-becb1ca20431",
   "metadata": {},
   "outputs": [],
   "source": [
    "test = Preprocessing(test_df, config)"
   ]
  },
  {
   "cell_type": "code",
   "execution_count": 6,
   "id": "a76954fa-e0ba-40db-bca1-d1a6791c4d09",
   "metadata": {},
   "outputs": [
    {
     "data": {
      "text/plain": [
       "date                                               0\n",
       "season                                             0\n",
       "home                                               0\n",
       "away                                               0\n",
       "nb_goals_home                                      0\n",
       "nb_goals_away                                      0\n",
       "final_result                                       0\n",
       "B365H                                              0\n",
       "B365D                                              0\n",
       "B365A                                              0\n",
       "BFH                                                0\n",
       "BFD                                                0\n",
       "BFA                                                0\n",
       "PSH                                                0\n",
       "PSD                                                0\n",
       "PSA                                                0\n",
       "1XBH                                               0\n",
       "1XBD                                               0\n",
       "1XBA                                               0\n",
       "BFEH                                               0\n",
       "BFED                                               0\n",
       "BFEA                                               0\n",
       "BFCH                                               0\n",
       "BFCD                                               0\n",
       "BFCA                                               0\n",
       "1XBCH                                              0\n",
       "1XBCD                                              0\n",
       "1XBCA                                              0\n",
       "BFECH                                              0\n",
       "BFECD                                              0\n",
       "BFECA                                              0\n",
       "abs_recent_nb_points_by_match_home_team            0\n",
       "abs_recent_nb_points_by_match_away_team            0\n",
       "abs_recent_nb_goals_scored_by_match_home_team      0\n",
       "abs_recent_nb_goals_scored_by_match_away_team      0\n",
       "abs_recent_nb_goals_conceded_by_match_home_team    0\n",
       "abs_recent_nb_goals_conceded_by_match_away_team    0\n",
       "abs_recent_goal_difference_home_team               0\n",
       "abs_recent_goal_difference_away_team               0\n",
       "abs_recent_ranking_home_team                       0\n",
       "abs_recent_ranking_away_team                       0\n",
       "dtype: int64"
      ]
     },
     "execution_count": 6,
     "metadata": {},
     "output_type": "execute_result"
    }
   ],
   "source": [
    "#test.computes_current_season_indicators()\n",
    "test.computes_absolute_recent_form_indicators()"
   ]
  },
  {
   "cell_type": "code",
   "execution_count": null,
   "id": "7442df19-0638-40a6-bdea-71d6a0650c5f",
   "metadata": {},
   "outputs": [],
   "source": []
  }
 ],
 "metadata": {
  "kernelspec": {
   "display_name": "ligue1_pred_venv_v2",
   "language": "python",
   "name": "ligue1_pred_venv"
  },
  "language_info": {
   "codemirror_mode": {
    "name": "ipython",
    "version": 3
   },
   "file_extension": ".py",
   "mimetype": "text/x-python",
   "name": "python",
   "nbconvert_exporter": "python",
   "pygments_lexer": "ipython3",
   "version": "3.11.4"
  }
 },
 "nbformat": 4,
 "nbformat_minor": 5
}
