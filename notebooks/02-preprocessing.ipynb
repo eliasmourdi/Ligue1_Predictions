{
 "cells": [
  {
   "cell_type": "markdown",
   "id": "93839e36-3154-40da-932a-23a36e4a68d4",
   "metadata": {},
   "source": [
    "Plusieurs types d'indicateurs vont être construits :\n",
    "\n",
    "- des indicateurs de performances récentes\n",
    "- des indicateurs de performances passées, sur la base des données d'historisation récupérées\n",
    "- des indicateurs sur les confrontations directes entre les deux clubs\n",
    "- des facteurs externes pouvant influencer le résultat d'un match (TODO)"
   ]
  },
  {
   "cell_type": "code",
   "execution_count": 1,
   "id": "51295b8d-17bb-4944-ad76-09ae8abe7d76",
   "metadata": {},
   "outputs": [],
   "source": [
    "import os\n",
    "import sys\n",
    "root_path = os.path.abspath(os.path.join(os.getcwd(), \"..\"))\n",
    "sys.path.append(root_path)\n",
    "\n",
    "import pandas as pd\n",
    "\n",
    "from src.config import load_config\n",
    "from src.preprocessing import Preprocessing\n",
    "import src.utils\n",
    "\n",
    "\n",
    "# config.yaml importation\n",
    "config_file = 'config.yaml'\n",
    "config_path = os.path.join(root_path, config_file)\n",
    "config = load_config(config_path)"
   ]
  },
  {
   "cell_type": "code",
   "execution_count": null,
   "id": "4ee5b59e-6885-411e-9245-56a4ca396450",
   "metadata": {},
   "outputs": [],
   "source": []
  },
  {
   "cell_type": "code",
   "execution_count": null,
   "id": "f1e3cb0c-208e-496c-9df3-f217c60817d2",
   "metadata": {},
   "outputs": [],
   "source": []
  },
  {
   "cell_type": "code",
   "execution_count": 2,
   "id": "c7af180f-f8be-4ad0-b387-af169b9f0d6c",
   "metadata": {},
   "outputs": [],
   "source": [
    "cleaned_data_path = os.path.join(root_path, config['cleaned_dir'])\n",
    "test_df = pd.read_csv(cleaned_data_path+'/cleaned_df_test.csv')"
   ]
  },
  {
   "cell_type": "code",
   "execution_count": 3,
   "id": "a561c4f6-9b97-4d92-89d7-becb1ca20431",
   "metadata": {},
   "outputs": [],
   "source": [
    "test = Preprocessing(test_df, config)"
   ]
  },
  {
   "cell_type": "code",
   "execution_count": null,
   "id": "a76954fa-e0ba-40db-bca1-d1a6791c4d09",
   "metadata": {},
   "outputs": [],
   "source": [
    "test.computes_current_season_indicators()"
   ]
  }
 ],
 "metadata": {
  "kernelspec": {
   "display_name": "ligue1_pred_venv_v2",
   "language": "python",
   "name": "ligue1_pred_venv"
  },
  "language_info": {
   "codemirror_mode": {
    "name": "ipython",
    "version": 3
   },
   "file_extension": ".py",
   "mimetype": "text/x-python",
   "name": "python",
   "nbconvert_exporter": "python",
   "pygments_lexer": "ipython3",
   "version": "3.11.4"
  }
 },
 "nbformat": 4,
 "nbformat_minor": 5
}
