{
 "cells": [
  {
   "cell_type": "markdown",
   "id": "93839e36-3154-40da-932a-23a36e4a68d4",
   "metadata": {},
   "source": [
    "Plusieurs types d'indicateurs vont être construits :\n",
    "\n",
    "- des indicateurs de performances récentes\n",
    "- des indicateurs de performances passées, sur la base des données d'historisation récupérées\n",
    "- des indicateurs sur les confrontations directes entre les deux clubs\n",
    "- des facteurs externes pouvant influencer le résultat d'un match (TODO)"
   ]
  },
  {
   "cell_type": "code",
   "execution_count": 8,
   "id": "51295b8d-17bb-4944-ad76-09ae8abe7d76",
   "metadata": {},
   "outputs": [],
   "source": [
    "import os\n",
    "import sys\n",
    "root_path = os.path.abspath(os.path.join(os.getcwd(), \"..\"))\n",
    "sys.path.append(root_path)\n",
    "\n",
    "import pandas as pd\n",
    "\n",
    "from src.config import load_config\n",
    "from src.preprocessing import Preprocessing, ranking_table, ranking_club\n",
    "\n",
    "# config.yaml importation\n",
    "config_file = 'config.yaml'\n",
    "config_path = os.path.join(root_path, config_file)\n",
    "config = load_config(config_path)"
   ]
  },
  {
   "cell_type": "code",
   "execution_count": null,
   "id": "4ee5b59e-6885-411e-9245-56a4ca396450",
   "metadata": {},
   "outputs": [],
   "source": []
  },
  {
   "cell_type": "code",
   "execution_count": null,
   "id": "f1e3cb0c-208e-496c-9df3-f217c60817d2",
   "metadata": {},
   "outputs": [],
   "source": []
  },
  {
   "cell_type": "code",
   "execution_count": 3,
   "id": "c7af180f-f8be-4ad0-b387-af169b9f0d6c",
   "metadata": {},
   "outputs": [],
   "source": [
    "cleaned_data_path = os.path.join(root_path, config['cleaned_dir'])\n",
    "train_df = pd.read_csv(cleaned_data_path+'/cleaned_df_train.csv')"
   ]
  },
  {
   "cell_type": "code",
   "execution_count": 20,
   "id": "d86de490-2415-4006-99e8-d8ee5321b804",
   "metadata": {},
   "outputs": [
    {
     "data": {
      "text/plain": [
       "8"
      ]
     },
     "execution_count": 20,
     "metadata": {},
     "output_type": "execute_result"
    }
   ],
   "source": [
    "test = Preprocessing(train_df, config)\n",
    "ranking_club(test.df, 'Montpellier')"
   ]
  },
  {
   "cell_type": "code",
   "execution_count": 18,
   "id": "2b240eb7-b4b6-40ff-99ed-7e5c19a9cbe5",
   "metadata": {},
   "outputs": [
    {
     "data": {
      "text/plain": [
       "True"
      ]
     },
     "execution_count": 18,
     "metadata": {},
     "output_type": "execute_result"
    }
   ],
   "source": [
    "'ETG' in test_test['home'].unique()"
   ]
  },
  {
   "cell_type": "code",
   "execution_count": 16,
   "id": "8aa54576-411c-47b9-81e1-c7779079c4f0",
   "metadata": {},
   "outputs": [
    {
     "data": {
      "text/plain": [
       "array(['Montpellier', 'ETG', 'Nancy', 'Nice', 'PSG', 'Rennes', 'Sochaux',\n",
       "       'Saint-Etienne', 'Troyes', 'Reims', 'Lille', 'Bastia', 'Brest',\n",
       "       'Lorient', 'Lyon', 'Toulouse', 'Valenciennes', 'Ajaccio',\n",
       "       'Bordeaux', 'Marseille', 'Nantes', 'Guingamp', 'Monaco', 'Caen',\n",
       "       'Lens', 'Metz', 'Angers', 'Gazélec Ajaccio', 'Dijon', 'Amiens',\n",
       "       'Strasbourg', 'Nimes', 'Clermont', 'Auxerre', 'Le Havre'],\n",
       "      dtype=object)"
      ]
     },
     "execution_count": 16,
     "metadata": {},
     "output_type": "execute_result"
    }
   ],
   "source": [
    "test_test['home'].unique()"
   ]
  },
  {
   "cell_type": "code",
   "execution_count": null,
   "id": "a561c4f6-9b97-4d92-89d7-becb1ca20431",
   "metadata": {},
   "outputs": [],
   "source": []
  }
 ],
 "metadata": {
  "kernelspec": {
   "display_name": "ligue1_pred_venv_v2",
   "language": "python",
   "name": "ligue1_pred_venv"
  },
  "language_info": {
   "codemirror_mode": {
    "name": "ipython",
    "version": 3
   },
   "file_extension": ".py",
   "mimetype": "text/x-python",
   "name": "python",
   "nbconvert_exporter": "python",
   "pygments_lexer": "ipython3",
   "version": "3.11.4"
  }
 },
 "nbformat": 4,
 "nbformat_minor": 5
}
