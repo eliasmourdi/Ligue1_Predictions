{
 "cells": [
  {
   "cell_type": "markdown",
   "id": "93839e36-3154-40da-932a-23a36e4a68d4",
   "metadata": {},
   "source": [
    "The aim of this preprocessing notebook is to run the preprocessing pipeline, whose goal is to create the following variables:\n",
    "- an aggregated variable with betting odds: one column for an aggregated betting odd variable for home tema victory, one column for away team victory, one column for draw\n",
    "- current season indicators, based on matched played during the current season\n",
    "- absolute recent form indicators, based on the last matches played during the current season, regardless of the confronted teams\n",
    "- absolute historical form indicators, based on the entire imported data (several seasons)\n",
    "- relative recent form indicators, based on the last matches played against the same team\n",
    "- strict relative recent form indicators, based on the last matches played against the same team in the same stadium (home away order kept)\n",
    "- external factors which could impact a match issue"
   ]
  },
  {
   "cell_type": "code",
   "execution_count": null,
   "id": "51295b8d-17bb-4944-ad76-09ae8abe7d76",
   "metadata": {},
   "outputs": [],
   "source": [
    "import os\n",
    "import sys\n",
    "root_path = os.path.abspath(os.path.join(os.getcwd(), \"..\"))\n",
    "sys.path.append(root_path)\n",
    "\n",
    "import pandas as pd\n",
    "\n",
    "from src.config import load_config\n",
    "from src.preprocessing import Preprocessing\n",
    "import src.utils\n",
    "\n",
    "# config.yaml importation\n",
    "config_file = 'config.yaml'\n",
    "config_path = os.path.join(root_path, config_file)\n",
    "config = load_config(config_path)"
   ]
  },
  {
   "cell_type": "markdown",
   "id": "90564683-e3cc-4ead-b20f-e14622eed998",
   "metadata": {},
   "source": [
    "# Preprocessing pipeline for cleaned train and test dataframes"
   ]
  },
  {
   "cell_type": "code",
   "execution_count": null,
   "id": "f1e3cb0c-208e-496c-9df3-f217c60817d2",
   "metadata": {},
   "outputs": [],
   "source": [
    "cleaned_data_dir = os.path.join(root_path, config['cleaned_dir'])\n",
    "cleaned_df_train_path = os.path.join(cleaned_data_dir, f\"{config['cleaned_train_df_name']}.csv\")\n",
    "cleaned_df_test_path = os.path.join(cleaned_data_dir, f\"{config['cleaned_test_df_name']}.csv\")\n",
    "\n",
    "cleaned_df_train = pd.read_csv(cleaned_df_train_path)\n",
    "cleaned_df_test = pd.read_csv(cleaned_df_test_path)"
   ]
  },
  {
   "cell_type": "code",
   "execution_count": null,
   "id": "970deba7-8d9a-4514-acde-2493e72dde21",
   "metadata": {},
   "outputs": [],
   "source": [
    "cleaned_df_train.head()"
   ]
  },
  {
   "cell_type": "code",
   "execution_count": null,
   "id": "40d8e6ea-4bee-4f63-a7ac-461df8f11b32",
   "metadata": {},
   "outputs": [],
   "source": [
    "cleaned_df_test.head()"
   ]
  },
  {
   "cell_type": "code",
   "execution_count": null,
   "id": "caa541ec-5793-458d-b8ca-506f94c187c0",
   "metadata": {},
   "outputs": [],
   "source": [
    "train_preproc = Preprocessing(cleaned_df_train, config)\n",
    "test_preproc = Preprocessing(cleaned_df_test, config)"
   ]
  },
  {
   "cell_type": "code",
   "execution_count": null,
   "id": "1401f858-6f71-4048-9b77-a5636049c6cc",
   "metadata": {},
   "outputs": [],
   "source": [
    "preprocessed_df_train = train_preproc.run_preprocessing_pipeline()"
   ]
  },
  {
   "cell_type": "code",
   "execution_count": null,
   "id": "cd4f310f-8fcd-4a27-9cbb-13137b5bac9c",
   "metadata": {},
   "outputs": [],
   "source": [
    "preprocessed_df_test = test_preproc.run_preprocessing_pipeline()"
   ]
  },
  {
   "cell_type": "markdown",
   "id": "e62563a3-b369-428f-8379-73bc73504308",
   "metadata": {},
   "source": [
    "# Preprocessed dataframes export"
   ]
  },
  {
   "cell_type": "code",
   "execution_count": null,
   "id": "76593d09-0356-491f-ba79-b34be38ab2f3",
   "metadata": {},
   "outputs": [],
   "source": [
    "preprocessed_data_path = os.path.join(root_path, config['preprocessed_dir'])\n",
    "df_train_path = os.path.join(preprocessed_data_path, f\"{config['preprocessed_train_df_name']}.csv\")\n",
    "df_test_path = os.path.join(preprocessed_data_path, f\"{config['preprocessed_test_df_name']}.csv\")\n",
    "\n",
    "preprocessed_df_train.to_csv(df_train_path, index=False)\n",
    "preprocessed_df_test.to_csv(df_test_path, index=False)"
   ]
  }
 ],
 "metadata": {
  "kernelspec": {
   "display_name": "ligue1_pred_venv_v2",
   "language": "python",
   "name": "ligue1_pred_venv"
  },
  "language_info": {
   "codemirror_mode": {
    "name": "ipython",
    "version": 3
   },
   "file_extension": ".py",
   "mimetype": "text/x-python",
   "name": "python",
   "nbconvert_exporter": "python",
   "pygments_lexer": "ipython3",
   "version": "3.11.4"
  }
 },
 "nbformat": 4,
 "nbformat_minor": 5
}
