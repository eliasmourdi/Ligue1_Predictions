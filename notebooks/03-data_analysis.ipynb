{
 "cells": [
  {
   "cell_type": "markdown",
   "id": "4f505740-2629-4013-b624-dc3d78ce7bcb",
   "metadata": {},
   "source": [
    "This notebook aims at exploring data previously preprocessed. This notebook has different sections:\n",
    "- structure and consistency analysis\n",
    "- goals scored analysis\n",
    "- clubs analysis\n",
    "- focus on specific clubs"
   ]
  },
  {
   "cell_type": "code",
   "execution_count": null,
   "id": "8e30a0f3-270c-4871-a47b-5245553532a6",
   "metadata": {},
   "outputs": [],
   "source": [
    "import os\n",
    "import sys\n",
    "import matplotlib.pyplot as plt\n",
    "import seaborn as sns\n",
    "from adjustText import adjust_text\n",
    "root_path = os.path.abspath(os.path.join(os.getcwd(), \"..\"))\n",
    "sys.path.append(root_path)\n",
    "\n",
    "import pandas as pd\n",
    "\n",
    "from src.config import load_config\n",
    "import src.utils\n",
    "from src.data_analysis import ClubAnalysis\n",
    "\n",
    "# config.yaml importation\n",
    "config_file = 'config.yaml'\n",
    "config_path = os.path.join(root_path, config_file)\n",
    "config = load_config(config_path)"
   ]
  },
  {
   "cell_type": "markdown",
   "id": "615fe773-6566-40df-b497-e47224b6f52b",
   "metadata": {},
   "source": [
    "# Preprocessed train data importation"
   ]
  },
  {
   "cell_type": "code",
   "execution_count": null,
   "id": "d78cb737-c4d4-4297-88bc-fec5abc97a48",
   "metadata": {},
   "outputs": [],
   "source": [
    "preprocessed_data_path = os.path.join(root_path, config['preprocessed_dir'])\n",
    "df_train_path = os.path.join(preprocessed_data_path, f\"{config['preprocessed_train_df_name']}.csv\")\n",
    "\n",
    "df = pd.read_csv(df_train_path)\n",
    "df.head()"
   ]
  },
  {
   "cell_type": "code",
   "execution_count": null,
   "id": "7722b421-361d-4a2c-aa00-c756182cefe7",
   "metadata": {},
   "outputs": [],
   "source": [
    "df.columns"
   ]
  },
  {
   "cell_type": "markdown",
   "id": "234c618a-82e0-4c93-9183-2624ad1a1412",
   "metadata": {},
   "source": [
    "# Strucutre and consistency"
   ]
  },
  {
   "cell_type": "code",
   "execution_count": null,
   "id": "d811b2b9-44fe-4374-9dc9-72554e8d9cae",
   "metadata": {},
   "outputs": [],
   "source": [
    "df.info()"
   ]
  },
  {
   "cell_type": "code",
   "execution_count": null,
   "id": "f04e8e61-68d6-4a62-afd4-43156dcfa832",
   "metadata": {},
   "outputs": [],
   "source": [
    "df.describe()"
   ]
  },
  {
   "cell_type": "code",
   "execution_count": null,
   "id": "a9dca15d-90c2-42e1-a396-620285f26d67",
   "metadata": {},
   "outputs": [],
   "source": [
    "df.isna().mean().sort_values(ascending=False)"
   ]
  },
  {
   "cell_type": "code",
   "execution_count": null,
   "id": "777a0305-b74c-41f1-9621-7a2e61baea52",
   "metadata": {},
   "outputs": [],
   "source": [
    "df[config['final_result_column']].value_counts(normalize=True)"
   ]
  },
  {
   "cell_type": "markdown",
   "id": "4626126c-577f-4934-9559-5ef0e4b2f720",
   "metadata": {},
   "source": [
    "# Goals scored analysis"
   ]
  },
  {
   "cell_type": "code",
   "execution_count": null,
   "id": "2aa9e6eb-bd6c-4f08-ac59-6b8f1bd76437",
   "metadata": {},
   "outputs": [],
   "source": [
    "df[\"total_goals\"] = df[config['nb_goals_home_column']] + df[config['nb_goals_away_column']]\n",
    "\n",
    "plt.figure(figsize=(10, 6))\n",
    "sns.histplot(df[\"total_goals\"], bins=10)\n",
    "plt.title(\"Number of goals per match repartition\")\n",
    "plt.xlabel(\"Number of goals scored per match\")\n",
    "plt.ylabel(\"Frequency\")\n",
    "plt.show()"
   ]
  },
  {
   "cell_type": "code",
   "execution_count": null,
   "id": "5257645d-3915-4b34-be53-f7bd31fbd69a",
   "metadata": {},
   "outputs": [],
   "source": [
    "plt.figure(figsize=(10, 6))\n",
    "sns.histplot(df[config['nb_goals_home_column']], label=\"Goals scored by home teams\", fill=True)\n",
    "sns.histplot(df[config['nb_goals_away_column']], label=\"Goals scored by away teams\", fill=True)\n",
    "plt.title(\"Goals scored by home teams vs goals scored by away teams\")\n",
    "plt.xlabel(\"Number of goals scored\")\n",
    "plt.legend()\n",
    "plt.show()"
   ]
  },
  {
   "cell_type": "code",
   "execution_count": null,
   "id": "ef56bb22-7b2d-4425-8ff1-8a7141c48786",
   "metadata": {},
   "outputs": [],
   "source": [
    "goals_by_season = (\n",
    "    df.groupby(config['season_column'])[[config['nb_goals_home_column'], config['nb_goals_away_column']]]\n",
    "    .mean()\n",
    "    .assign(total=lambda x: x[config['nb_goals_home_column']] + x[config['nb_goals_away_column']])\n",
    ")\n",
    "\n",
    "plt.figure(figsize=(10, 6))\n",
    "sns.lineplot(data=goals_by_season[config['nb_goals_home_column']], marker=\"o\", label='Goals scored at home')\n",
    "sns.lineplot(data=goals_by_season[config['nb_goals_away_column']], marker=\"o\", label='Goals scored away')\n",
    "sns.lineplot(data=goals_by_season['total'], marker=\"o\", label='Total goals')\n",
    "plt.title(\"Evolution of the goals scored average per season\")\n",
    "plt.ylabel(\"Goals average\")\n",
    "plt.xlabel(\"Season\")\n",
    "plt.xticks(rotation=45)\n",
    "plt.show()"
   ]
  },
  {
   "cell_type": "code",
   "execution_count": null,
   "id": "a7d927fd-4233-4b5e-b826-b663e75badf4",
   "metadata": {},
   "outputs": [],
   "source": [
    "df[\"over_2_5\"] = df[\"total_goals\"] > 2.5\n",
    "prop_over_2_5 = df[\"over_2_5\"].mean() * 100\n",
    "\n",
    "print(f\"{prop_over_2_5:.2f}% of the matches had more than 2.5 goals\")\n",
    "\n",
    "over25_by_season = df.groupby(config['season_column'])[\"over_2_5\"].mean() * 100\n",
    "plt.figure(figsize=(10, 6))\n",
    "sns.barplot(x=over25_by_season.index, y=over25_by_season.values)\n",
    "plt.title(\"Percentage of matches with +2.5 goals per season\")\n",
    "plt.ylabel(\"Percentage of matches with +2.5 goals\")\n",
    "plt.xlabel(\"Season\")\n",
    "plt.xticks(rotation=45)\n",
    "plt.show()"
   ]
  },
  {
   "cell_type": "markdown",
   "id": "89079905-8743-42cf-bba2-967c241fd1b2",
   "metadata": {},
   "source": [
    "# Clubs performances analysis"
   ]
  },
  {
   "cell_type": "code",
   "execution_count": null,
   "id": "ba36a7cf-b106-4d8a-8275-91f42af9849e",
   "metadata": {},
   "outputs": [],
   "source": [
    "df['home_points'] = df[config['final_result_column']].map({'home': 3, 'draw': 1, 'away': 0})\n",
    "df['away_points'] = df[config['final_result_column']].map({'home': 0, 'draw': 1, 'away': 3})\n",
    "\n",
    "points_home = df.groupby([config['season_column'], config['home_column']])['home_points'].sum()\n",
    "points_away = df.groupby([config['season_column'], config['away_column']])['away_points'].sum()\n",
    "\n",
    "points_totaux = points_home.add(points_away, fill_value=0).reset_index()\n",
    "points_totaux.rename(columns={0:'points_final'}, inplace=True)\n",
    "\n",
    "champion_points = points_totaux.groupby(config['season_column'])['points_final'].max()\n",
    "\n",
    "points_to_stay_l1 = []\n",
    "for season, group in points_totaux.groupby(config['season_column']):\n",
    "    points_teams = group['points_final'].sort_values(ascending=False)\n",
    "    seuil = points_teams.iloc[-4]  # the 3 last teams are relegated to L2\n",
    "    points_to_stay_l1.append(seuil)\n",
    "\n",
    "points_to_stay_l1 = pd.Series(points_to_stay_l1, index=champion_points.index)\n",
    "\n",
    "plt.figure(figsize=(12,6))\n",
    "sns.lineplot(x=champion_points.index, y=champion_points.values, marker='o', label='Number of points to be champion')\n",
    "sns.lineplot(x=points_to_stay_l1.index, y=points_to_stay_l1.values, marker='o', label='Number of points to stay in L1')\n",
    "plt.xticks(rotation=45)\n",
    "plt.title(\"Final points to be champion and to stay in L1\")\n",
    "plt.ylabel(\"Points\")\n",
    "plt.xlabel(\"Season\")\n",
    "plt.legend()\n",
    "plt.show()"
   ]
  },
  {
   "cell_type": "code",
   "execution_count": null,
   "id": "4d4813ed-7331-4276-9ca9-e10cf6780d85",
   "metadata": {},
   "outputs": [],
   "source": [
    "plt.figure(figsize=(12,5))\n",
    "sns.boxplot(x=config['final_result_column'], y='odd_home', data=df)\n",
    "plt.title(\"Home odd according to the result\")\n",
    "plt.xlabel(\"Result\")\n",
    "plt.ylabel(\"Home odd\")\n",
    "plt.show()\n",
    "\n",
    "plt.figure(figsize=(12,5))\n",
    "sns.boxplot(x=config['final_result_column'], y='odd_away', data=df)\n",
    "plt.title(\"Away odd according to the match result\")\n",
    "plt.xlabel(\"Result\")\n",
    "plt.ylabel(\"Away odd\")\n",
    "plt.show()"
   ]
  },
  {
   "cell_type": "code",
   "execution_count": null,
   "id": "9f16b4c7-e48f-4f54-998c-2dc5b543714c",
   "metadata": {},
   "outputs": [],
   "source": [
    "club_perf = (\n",
    "    df.groupby(config['home_column'])[[config['nb_goals_home_column'], config['nb_goals_away_column']]]\n",
    "    .mean()\n",
    "    .rename(columns={\n",
    "        config['nb_goals_home_column']: \"avg_goals_scored_home\",\n",
    "        config['nb_goals_away_column']: \"avg_goals_conceded_home\"\n",
    "    })\n",
    ")\n",
    "\n",
    "plt.figure(figsize=(10, 8))\n",
    "sns.scatterplot(\n",
    "    data=club_perf,\n",
    "    x=\"avg_goals_conceded_home\",\n",
    "    y=\"avg_goals_scored_home\",\n",
    "    s=100,\n",
    "    color=\"cornflowerblue\",\n",
    "    alpha=0.8\n",
    ")\n",
    "\n",
    "texts = []\n",
    "for club, row in club_perf.iterrows():\n",
    "    texts.append(plt.text(\n",
    "        row[\"avg_goals_conceded_home\"],\n",
    "        row[\"avg_goals_scored_home\"],\n",
    "        club,\n",
    "        fontsize=9,\n",
    "        weight='bold'\n",
    "    ))\n",
    "\n",
    "adjust_text(texts, arrowprops=dict(arrowstyle='-', color='gray', lw=0.5))\n",
    "\n",
    "plt.title(\"Attack / defense profile of the clubs (at home)\")\n",
    "plt.xlabel(\"Average goals conceded (defense)\")\n",
    "plt.ylabel(\"Average goals scored (attack)\")\n",
    "plt.axline((0, 0), slope=1, color='gray', linestyle='--', alpha=0.5)\n",
    "plt.show()"
   ]
  },
  {
   "cell_type": "code",
   "execution_count": null,
   "id": "ea573b3f-15f7-49a0-aaea-d428adc91a05",
   "metadata": {},
   "outputs": [],
   "source": [
    "club_perf = (\n",
    "    df.groupby(config['away_column'])[[config['nb_goals_home_column'], config['nb_goals_away_column']]]\n",
    "    .mean()\n",
    "    .rename(columns={\n",
    "        config['nb_goals_home_column']: \"avg_goals_conceded_away\",\n",
    "        config['nb_goals_away_column']: \"avg_goals_scored_away\"\n",
    "    })\n",
    ")\n",
    "\n",
    "plt.figure(figsize=(10, 8))\n",
    "sns.scatterplot(\n",
    "    data=club_perf,\n",
    "    x=\"avg_goals_conceded_away\",\n",
    "    y=\"avg_goals_scored_away\",\n",
    "    s=100,\n",
    "    color=\"cornflowerblue\",\n",
    "    alpha=0.8\n",
    ")\n",
    "\n",
    "texts = []\n",
    "for club, row in club_perf.iterrows():\n",
    "    texts.append(plt.text(\n",
    "        row[\"avg_goals_conceded_away\"],\n",
    "        row[\"avg_goals_scored_away\"],\n",
    "        club,\n",
    "        fontsize=9,\n",
    "        weight='bold'\n",
    "    ))\n",
    "\n",
    "adjust_text(texts, arrowprops=dict(arrowstyle='-', color='gray', lw=0.5))\n",
    "\n",
    "plt.title(\"Attack / defense profile of the clubs (away)\")\n",
    "plt.xlabel(\"Average goals conceded (defense)\")\n",
    "plt.ylabel(\"Average goals scored (attack)\")\n",
    "plt.axline((0, 0), slope=1, color='gray', linestyle='--', alpha=0.5)\n",
    "plt.show()"
   ]
  },
  {
   "cell_type": "code",
   "execution_count": null,
   "id": "ce26c7fd-69cb-46e3-b95b-13153df31080",
   "metadata": {},
   "outputs": [],
   "source": [
    "home_vs_opponent = (\n",
    "    df.groupby([config['home_column'], config['away_column']])['home_points'].sum()\n",
    "    .reset_index()\n",
    "    .rename(columns={config['home_column']: 'club', config['away_column']: 'opponent'})\n",
    ")\n",
    "\n",
    "matches_vs_opponent_home = (\n",
    "    df.groupby([config['home_column'], config['away_column']])['home_points']\n",
    "    .count()\n",
    "    .reset_index()\n",
    "    .rename(columns={config['home_column']: 'club', config['away_column']: 'opponent', 'home_points': 'n_matches'})\n",
    ")\n",
    "\n",
    "home_vs_opponent = home_vs_opponent.merge(matches_vs_opponent_home, on=['club', 'opponent'])\n",
    "home_vs_opponent['avg_points'] = home_vs_opponent['home_points'] / home_vs_opponent['n_matches']\n",
    "\n",
    "# Bête noire = minimum points en domicile\n",
    "beasts_home = home_vs_opponent.loc[home_vs_opponent.groupby('club')['avg_points'].idxmin()]\n",
    "beasts_home = beasts_home.sort_values('avg_points')\n",
    "\n",
    "# Graphique\n",
    "plt.figure(figsize=(12, 8))\n",
    "bars = plt.barh(beasts_home['club'], beasts_home['avg_points'], color='skyblue', alpha=0.8)\n",
    "texts = []\n",
    "for bar, opponent, n in zip(bars, beasts_home['opponent'], beasts_home['n_matches']):\n",
    "    width = bar.get_width()\n",
    "    label = f\"{opponent} ({n})\"\n",
    "    texts.append(plt.text(width + 0.05, bar.get_y() + bar.get_height()/2, label, va='center', fontsize=9, weight='bold'))\n",
    "\n",
    "plt.xlabel(\"Average points won against the opponent\")\n",
    "plt.ylabel(\"Club\")\n",
    "plt.title(\"Home bogey teams (matches played)\")\n",
    "plt.xlim(0, 3)\n",
    "plt.show()"
   ]
  },
  {
   "cell_type": "code",
   "execution_count": null,
   "id": "96d35c7e-158f-4f7c-b4ed-dd9d6abc4b13",
   "metadata": {},
   "outputs": [],
   "source": [
    "away_vs_opponent = (\n",
    "    df.groupby([config['away_column'], config['home_column']])['away_points'].sum()\n",
    "    .reset_index()\n",
    "    .rename(columns={config['away_column']: 'club', config['home_column']: 'opponent'})\n",
    ")\n",
    "\n",
    "matches_vs_opponent_away = (\n",
    "    df.groupby([config['away_column'], config['home_column']])['away_points']\n",
    "    .count()\n",
    "    .reset_index()\n",
    "    .rename(columns={config['away_column']: 'club', config['home_column']: 'opponent', 'away_points': 'n_matches'})\n",
    ")\n",
    "\n",
    "away_vs_opponent = away_vs_opponent.merge(matches_vs_opponent_away, on=['club', 'opponent'])\n",
    "away_vs_opponent['avg_points'] = away_vs_opponent['away_points'] / away_vs_opponent['n_matches']\n",
    "\n",
    "# Bête noire = minimum points en extérieur\n",
    "beasts_away = away_vs_opponent.loc[away_vs_opponent.groupby('club')['avg_points'].idxmin()]\n",
    "beasts_away = beasts_away.sort_values('avg_points')\n",
    "\n",
    "# Graphique\n",
    "plt.figure(figsize=(12, 8))\n",
    "bars = plt.barh(beasts_away['club'], beasts_away['avg_points'], color='tomato', alpha=0.8)\n",
    "texts = []\n",
    "for bar, opponent, n in zip(bars, beasts_away['opponent'], beasts_away['n_matches']):\n",
    "    width = bar.get_width()\n",
    "    label = f\"{opponent} ({n})\"\n",
    "    texts.append(plt.text(width + 0.05, bar.get_y() + bar.get_height()/2, label, va='center', fontsize=9, weight='bold'))\n",
    "\n",
    "plt.xlabel(\"Average points won against the opponent\")\n",
    "plt.ylabel(\"Club\")\n",
    "plt.title(\"Away bogey teams (matches played)\")\n",
    "plt.xlim(0, 3)\n",
    "plt.show()"
   ]
  },
  {
   "cell_type": "code",
   "execution_count": null,
   "id": "5c608d89-f6b6-412c-969b-9be56f8ac30f",
   "metadata": {},
   "outputs": [],
   "source": [
    "home_vs_opponent_5 = home_vs_opponent[home_vs_opponent['n_matches'] >= 5]\n",
    "\n",
    "beasts_home_5 = home_vs_opponent_5.loc[home_vs_opponent_5.groupby('club')['avg_points'].idxmin()]\n",
    "beasts_home_5 = beasts_home_5.sort_values('avg_points')\n",
    "\n",
    "plt.figure(figsize=(12, 8))\n",
    "bars = plt.barh(beasts_home_5['club'], beasts_home_5['avg_points'], color='skyblue', alpha=0.8)\n",
    "for bar, opponent, n in zip(bars, beasts_home_5['opponent'], beasts_home_5['n_matches']):\n",
    "    width = bar.get_width()\n",
    "    plt.text(width + 0.05, bar.get_y() + bar.get_height()/2, f\"{opponent} ({n})\", va='center', fontsize=9, weight='bold')\n",
    "\n",
    "plt.xlabel(\"Average points won against the opponent\")\n",
    "plt.ylabel(\"Club\")\n",
    "plt.title(\"Home bogey teams among teams faced +5 times\")\n",
    "plt.xlim(0, 3)\n",
    "plt.show()"
   ]
  },
  {
   "cell_type": "code",
   "execution_count": null,
   "id": "41ced772-6b39-45cd-b676-47dda20277e1",
   "metadata": {},
   "outputs": [],
   "source": [
    "away_vs_opponent_5 = away_vs_opponent[away_vs_opponent['n_matches'] >= 5]\n",
    "\n",
    "beasts_away_5 = away_vs_opponent_5.loc[away_vs_opponent_5.groupby('club')['avg_points'].idxmin()]\n",
    "beasts_away_5 = beasts_away_5.sort_values('avg_points')\n",
    "\n",
    "plt.figure(figsize=(12, 8))\n",
    "bars = plt.barh(beasts_away_5['club'], beasts_away_5['avg_points'], color='tomato', alpha=0.8)\n",
    "for bar, opponent, n in zip(bars, beasts_away_5['opponent'], beasts_away_5['n_matches']):\n",
    "    width = bar.get_width()\n",
    "    plt.text(width + 0.05, bar.get_y() + bar.get_height()/2, f\"{opponent} ({n})\", va='center', fontsize=9, weight='bold')\n",
    "\n",
    "plt.xlabel(\"Average points won against the opponent\")\n",
    "plt.ylabel(\"Club\")\n",
    "plt.title(\"Away bogey teams among teams faced +5 times\")\n",
    "plt.xlim(0, 3)\n",
    "plt.show()"
   ]
  },
  {
   "cell_type": "code",
   "execution_count": null,
   "id": "402db265-f293-4075-b93f-eb20b3c7d06f",
   "metadata": {},
   "outputs": [],
   "source": [
    "club_season_points = (\n",
    "    df.groupby(['season', 'home'])['home_points'].sum().reset_index().rename(columns={'home':'club', 'home_points':'points_home'})\n",
    ")\n",
    "club_season_points_away = (\n",
    "    df.groupby(['season', 'away'])['away_points'].sum().reset_index().rename(columns={'away':'club', 'away_points':'points_away'})\n",
    ")\n",
    "club_season_points_total = pd.concat([club_season_points, club_season_points_away])\n",
    "club_season_points_total = club_season_points_total.groupby(['season','club'])[['points_home','points_away']].sum().reset_index()\n",
    "club_season_points_total['total_points'] = club_season_points_total['points_home'] + club_season_points_total['points_away']\n",
    "\n",
    "# Moyenne par club\n",
    "club_avg_points = club_season_points_total.groupby('club')['total_points'].mean().sort_values(ascending=False)\n",
    "\n",
    "plt.figure(figsize=(12,6))\n",
    "sns.barplot(x=club_avg_points.values, y=club_avg_points.index, color=\"green\")\n",
    "plt.xlabel(\"Average points per season\")\n",
    "plt.ylabel(\"Club\")\n",
    "plt.title(\"Average points per season for each club\")\n",
    "plt.show()"
   ]
  },
  {
   "cell_type": "code",
   "execution_count": null,
   "id": "5737d1f0-d532-478f-be4d-8fb9bd2ade40",
   "metadata": {},
   "outputs": [],
   "source": [
    "home_points = df.groupby(['season','home'])['home_points'].sum().reset_index().rename(columns={'home':'club', 'home_points':'points_home'})\n",
    "away_points = df.groupby(['season','away'])['away_points'].sum().reset_index().rename(columns={'away':'club', 'away_points':'points_away'})\n",
    "\n",
    "season_points = pd.merge(home_points, away_points, on=['season','club'])\n",
    "season_points['total_points'] = season_points['points_home'] + season_points['points_away']\n",
    "\n",
    "season_points['rank'] = season_points.groupby('season')['total_points'].rank(method='min', ascending=False)\n",
    "\n",
    "club_avg_rank = season_points.groupby('club')['rank'].mean().sort_values()\n",
    "plt.figure(figsize=(12,6))\n",
    "sns.barplot(x=club_avg_rank.values, y=club_avg_rank.index, color=\"green\")\n",
    "plt.xlabel(\"Average ranking per season\")\n",
    "plt.ylabel(\"Club\")\n",
    "plt.title(\"Average rankings per season for each club\")\n",
    "plt.show()"
   ]
  },
  {
   "cell_type": "markdown",
   "id": "d003ff3c-e49c-4602-b3ce-b4c7d8d30669",
   "metadata": {},
   "source": [
    "# Specific club performances analysis"
   ]
  },
  {
   "cell_type": "code",
   "execution_count": null,
   "id": "396cb0cb-4359-4e7a-9c50-ec9329cf3c31",
   "metadata": {},
   "outputs": [],
   "source": [
    "club_to_focus = 'Metz'"
   ]
  },
  {
   "cell_type": "code",
   "execution_count": null,
   "id": "ada44a53-904a-4969-97bd-5b52c496b05f",
   "metadata": {},
   "outputs": [],
   "source": [
    "focus_club_perf = ClubAnalysis(df=df, club_name=club_to_focus, config=config)\n",
    "focus_club_perf.plot_all()"
   ]
  }
 ],
 "metadata": {
  "kernelspec": {
   "display_name": "ligue1_pred_venv_v2",
   "language": "python",
   "name": "ligue1_pred_venv"
  },
  "language_info": {
   "codemirror_mode": {
    "name": "ipython",
    "version": 3
   },
   "file_extension": ".py",
   "mimetype": "text/x-python",
   "name": "python",
   "nbconvert_exporter": "python",
   "pygments_lexer": "ipython3",
   "version": "3.11.4"
  }
 },
 "nbformat": 4,
 "nbformat_minor": 5
}
