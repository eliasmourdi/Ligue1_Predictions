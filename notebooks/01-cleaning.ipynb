{
 "cells": [
  {
   "cell_type": "markdown",
   "id": "bbf4d462-0992-4fe0-9762-ce79ffbd93b2",
   "metadata": {},
   "source": [
    "The aim of this cleaning notebook is to aggregate raw imported dataframes into cleaned dataframes with the following columns:\n",
    "- a date column, with the date of the match\n",
    "- a season column, with the season of the match, under the format 'year1/year2' (e.g. '2012/2013')\n",
    "- a home and an away column, with the teams involved in the match\n",
    "- a columns indicating the number of goals scored by the home team, same for the away team\n",
    "- a categorical column indicating the final result of the match (home for home victory, away for away victory, or draw)\n",
    "- columns with betting odds for home team victory, away team victory or draws for all bookmakers. Note that for each season, there may be different bookmakers mentionned in the different dataframes"
   ]
  },
  {
   "cell_type": "code",
   "execution_count": null,
   "id": "85c88dd8-f50e-4e0f-8167-5186a6bc4079",
   "metadata": {
    "scrolled": true
   },
   "outputs": [],
   "source": [
    "import os\n",
    "import sys\n",
    "root_path = os.path.abspath(os.path.join(os.getcwd(), \"..\"))\n",
    "sys.path.append(root_path)\n",
    "\n",
    "import pandas as pd\n",
    "\n",
    "from src.config import load_config\n",
    "from src.cleaning import import_raw_aggregated_dataset, dataframe_cleaning, convert_dates_column, season\n",
    "\n",
    "# config.yaml importation\n",
    "config_file = 'config.yaml'\n",
    "config_path = os.path.join(root_path, config_file)\n",
    "config = load_config(config_path)"
   ]
  },
  {
   "cell_type": "markdown",
   "id": "9686e28c-4a00-4d5f-b8fe-877682cfed2c",
   "metadata": {},
   "source": [
    "# Raw data importation"
   ]
  },
  {
   "cell_type": "markdown",
   "id": "a5c5bb03-f25a-4c89-a61a-06b3222912ea",
   "metadata": {},
   "source": [
    "Two dataframes are created:\n",
    "- a train dataframe, with all seasons excepted the last imported\n",
    "- a test dataframe, with the last imported season"
   ]
  },
  {
   "cell_type": "code",
   "execution_count": null,
   "id": "15134a1c-ed11-4fd5-90e5-9336990a45d7",
   "metadata": {},
   "outputs": [],
   "source": [
    "raw_data_path = os.path.join(root_path, config['raw_dir'])\n",
    "raw_df_train = import_raw_aggregated_dataset(config['first_date_first_season'], config['last_date_last_season']-1, raw_data_path)\n",
    "raw_df_test = import_raw_aggregated_dataset(config['last_date_last_season']-1, config['last_date_last_season'], raw_data_path)"
   ]
  },
  {
   "cell_type": "code",
   "execution_count": null,
   "id": "980276ef-000c-4d87-97f0-0142293ac18d",
   "metadata": {},
   "outputs": [],
   "source": [
    "raw_df_train.head()"
   ]
  },
  {
   "cell_type": "markdown",
   "id": "88ea1f1c-368e-4680-8137-78e6feb3642c",
   "metadata": {},
   "source": [
    "# Raw data cleaning"
   ]
  },
  {
   "cell_type": "markdown",
   "id": "f9857b54-15f8-4af6-a3dc-3b96f19b7bf6",
   "metadata": {},
   "source": [
    "Columns to delete may be different in the two dataframes."
   ]
  },
  {
   "cell_type": "code",
   "execution_count": null,
   "id": "05baf74e-9ed0-4dfc-8d05-d502d155c235",
   "metadata": {},
   "outputs": [],
   "source": [
    "cols_to_delete_train = ['Div', 'Time', 'HS', 'AS', 'HST', 'AST', 'HC', 'AC', 'HF', 'AF', 'HY', 'AY', 'HR', 'AR', 'Bb1X2', 'BbMxH', 'BbAvH', 'BbMxD',\n",
    "                        'BbAvD', 'BbMxA', 'BbAvA', 'MaxH', 'MaxD', 'MaxA', 'AvgH', 'AvgD', 'AvgA', 'BbOU', 'BbMx>2.5', 'BbMx<2.5', 'BbAv>2.5',\n",
    "                        'BbAv<2.5', 'B365>2.5', 'B365<2.5', 'P<2.5', 'P>2.5', 'Max<2.5', 'Max>2.5', 'Avg<2.5', 'Avg>2.5', 'BbAH', 'BbAHh', 'AHh',\n",
    "                        'BbMxAHH', 'BbAvAHH', 'BbMxAHA', 'BbAvAHA', 'B365AHH', 'B365AHA', 'PAHH', 'PAHA', 'MaxAHH', 'MaxAHA', 'AvgAHH', 'AvgAHA',\n",
    "                        'AvgC<2.5', 'AvgC>2.5', 'MaxC<2.5', 'MaxC>2.5', 'AHCh', 'B365CAHH', 'B365CAHA', 'PCAHH', 'PCAHA', 'MaxCAHH', 'MaxCAHA',\n",
    "                        'AvgCAHH', 'AvgCAHA', 'MaxCH', 'MaxCD', 'MaxCA', 'AvgCH', 'AvgCD', 'AvgCA', 'B365C>2.5', 'B365C<2.5', 'PC<2.5', 'PC>2.5',\n",
    "                        'PC<2.5', 'BWCA', 'IWCH', 'IWCD', 'IWCA', 'VCCH', 'VCCD', 'VCCA', 'B365CH', 'B365CD', 'B365CA', 'BWCH', 'BWCD', 'PSCH', 'PSCD',\n",
    "                        'PSCA', 'WHCH', 'WHCD', 'WHCA', 'HTHG', 'HTAG', 'HTR']\n",
    "\n",
    "cols_to_delete_test = ['Div', 'Time', 'HS', 'AS', 'HST', 'AST', 'HC', 'AC', 'HF', 'AF', 'HY', 'AY', 'HR', 'AR', 'MaxH', 'MaxD', 'MaxA', 'AvgH', 'AvgD',\n",
    "                       'AvgA', 'B365>2.5', 'B365<2.5', 'P<2.5', 'P>2.5', 'Max<2.5', 'Max>2.5', 'Avg<2.5', 'Avg>2.5', 'AHh', 'B365AHH', 'B365AHA', 'PAHH',\n",
    "                       'PAHA', 'MaxAHH', 'MaxAHA', 'AvgAHH', 'AvgAHA', 'AvgC<2.5', 'AvgC>2.5', 'MaxC<2.5', 'MaxC>2.5', 'AHCh', 'B365CAHH', 'B365CAHA',\n",
    "                       'PCAHH', 'PCAHA', 'MaxCAHH', 'MaxCAHA', 'AvgCAHH', 'AvgCAHA', 'MaxCH', 'MaxCD', 'MaxCA', 'AvgCH', 'AvgCD', 'AvgCA', 'B365C>2.5',\n",
    "                       'B365C<2.5', 'PC<2.5', 'PC>2.5', 'PC<2.5', 'BWCA', 'B365CH', 'B365CD', 'B365CA', 'BWCH', 'BWCD', 'PSCH', 'PSCD', 'PSCA', 'WHCH',\n",
    "                       'WHCD', 'WHCA', 'HTHG', 'HTAG', 'HTR', 'BFE>2.5', 'BFE<2.5', 'BFEAHH', 'BFEAHA', 'BFEC>2.5', 'BFEC<2.5', 'BFECAHH', 'BFECAHA']\n",
    "\n",
    "cols_to_rename = {'Date': config['date_column'],\n",
    "                  'HomeTeam': config['home_column'],\n",
    "                  'AwayTeam': config['away_column'],\n",
    "                  'FTHG': config['nb_goals_home_column'],\n",
    "                  'FTAG': config['nb_goals_away_column'],\n",
    "                  'FTR': config['final_result_column']}\n",
    "\n",
    "values_to_rename = {'final_result': {'D': 'draw',\n",
    "                                     'H': 'home',\n",
    "                                     'A': 'away'},\n",
    "                    'home': {'Paris SG': 'PSG',\n",
    "                             'St Etienne': 'Saint-Etienne',\n",
    "                             'Evian Thonon Gaillard': 'ETG',\n",
    "                             'Ajaccio GFCO': 'Gazélec Ajaccio'},\n",
    "                    'away': {'Paris SG': 'PSG',\n",
    "                             'St Etienne': 'Saint-Etienne',\n",
    "                             'Evian Thonon Gaillard': 'ETG',\n",
    "                             'Ajaccio GFCO': 'Gazélec Ajaccio'}\n",
    "                   }\n",
    "\n",
    "\n",
    "cleaned_df_train = dataframe_cleaning(df=raw_df_train,\n",
    "                                      cols_to_delete=cols_to_delete_train,\n",
    "                                      cols_to_rename=cols_to_rename,\n",
    "                                      values_to_rename=values_to_rename)\n",
    "\n",
    "cleaned_df_test = dataframe_cleaning(df=raw_df_test,\n",
    "                                     cols_to_delete=cols_to_delete_test,\n",
    "                                     cols_to_rename=cols_to_rename,\n",
    "                                     values_to_rename=values_to_rename)"
   ]
  },
  {
   "cell_type": "code",
   "execution_count": null,
   "id": "bcb65bd2-6407-4809-9237-affff4f5a60f",
   "metadata": {},
   "outputs": [],
   "source": [
    "cleaned_df_train = convert_dates_column(df=cleaned_df_train, date_column=config['date_column'])\n",
    "cleaned_df_test = convert_dates_column(df=cleaned_df_test, date_column=config['date_column'])\n",
    "\n",
    "# Addition of the season column\n",
    "cleaned_df_train.insert(1, 'season', cleaned_df_train.iloc[:, 0].apply(season))\n",
    "cleaned_df_test.insert(1, 'season', cleaned_df_test.iloc[:, 0].apply(season))\n",
    "\n",
    "cleaned_df_train.head()"
   ]
  },
  {
   "cell_type": "markdown",
   "id": "3decb5d7-fb21-4714-b86d-6ef3276a1d02",
   "metadata": {},
   "source": [
    "# Missing values management"
   ]
  },
  {
   "cell_type": "code",
   "execution_count": null,
   "id": "09749dc9-2747-4312-b92e-1dd66173dc22",
   "metadata": {},
   "outputs": [],
   "source": [
    "# Missing values\n",
    "\n",
    "print(f'Train dataframe: \\n{cleaned_df_train.isna().sum()} \\n')\n",
    "print(f'Test dataframe: \\n{cleaned_df_test.isna().sum()}')"
   ]
  },
  {
   "cell_type": "markdown",
   "id": "d64a57b2-3bc8-4b9d-aba9-88b3aea578fa",
   "metadata": {},
   "source": [
    "Columns with a lot of missing values (> 5% of the lines) will be deleted. Since they are odd variables, columns with less than 5% will be replaced by mean value."
   ]
  },
  {
   "cell_type": "code",
   "execution_count": null,
   "id": "1be428f9-3100-4fc8-8dde-5c103435c699",
   "metadata": {},
   "outputs": [],
   "source": [
    "cols_to_delete_train = ['GBH', 'GBD', 'GBA', 'LBH', 'LBD', 'LBA', 'SJH', 'SJD', 'SJA', 'BSH', 'BSD', 'BSA']\n",
    "cols_to_delete_test = ['BWH', 'BWD', 'BWA', 'WHH', 'WHD', 'WHA']\n",
    "\n",
    "cleaned_df_train = dataframe_cleaning(df=cleaned_df_train,\n",
    "                                      cols_to_delete=cols_to_delete_train)\n",
    "cleaned_df_test = dataframe_cleaning(df=cleaned_df_test,\n",
    "                                     cols_to_delete=cols_to_delete_test)"
   ]
  },
  {
   "cell_type": "code",
   "execution_count": null,
   "id": "3fe90248-a492-4226-9ff9-14674ebcadf0",
   "metadata": {},
   "outputs": [],
   "source": [
    "numeric_cols_train = cleaned_df_train.select_dtypes(include='number').columns\n",
    "cleaned_df_train[numeric_cols_train] = cleaned_df_train[numeric_cols_train].fillna(cleaned_df_train[numeric_cols_train].mean())\n",
    "\n",
    "numeric_cols_test = cleaned_df_test.select_dtypes(include='number').columns\n",
    "cleaned_df_test[numeric_cols_test] = cleaned_df_test[numeric_cols_test].fillna(cleaned_df_test[numeric_cols_test].mean())"
   ]
  },
  {
   "cell_type": "code",
   "execution_count": null,
   "id": "c4342834-6ee0-48b6-9e5b-2334e758dd46",
   "metadata": {},
   "outputs": [],
   "source": [
    "print(f'Train dataframe: \\n{cleaned_df_train.isna().sum()} \\n')\n",
    "print(f'Test dataframe: \\n{cleaned_df_test.isna().sum()}')"
   ]
  },
  {
   "cell_type": "markdown",
   "id": "dadc41ff-7074-4f01-8ebb-16b5a74f12bb",
   "metadata": {},
   "source": [
    "# Cleaned dataframe export"
   ]
  },
  {
   "cell_type": "code",
   "execution_count": null,
   "id": "d1876712-4ab5-43c9-a5d1-52b5670e3c24",
   "metadata": {},
   "outputs": [],
   "source": [
    "cleaned_data_path = os.path.join(root_path, config['cleaned_dir'])\n",
    "df_train_path = os.path.join(cleaned_data_path, f\"{config['cleaned_train_df_name']}.csv\")\n",
    "df_test_path = os.path.join(cleaned_data_path, f\"{config['cleaned_test_df_name']}.csv\")\n",
    "\n",
    "cleaned_df_train.to_csv(df_train_path, index=False)\n",
    "cleaned_df_test.to_csv(df_test_path, index=False)"
   ]
  }
 ],
 "metadata": {
  "kernelspec": {
   "display_name": "ligue1_pred_venv_v2",
   "language": "python",
   "name": "ligue1_pred_venv"
  },
  "language_info": {
   "codemirror_mode": {
    "name": "ipython",
    "version": 3
   },
   "file_extension": ".py",
   "mimetype": "text/x-python",
   "name": "python",
   "nbconvert_exporter": "python",
   "pygments_lexer": "ipython3",
   "version": "3.11.4"
  }
 },
 "nbformat": 4,
 "nbformat_minor": 5
}
