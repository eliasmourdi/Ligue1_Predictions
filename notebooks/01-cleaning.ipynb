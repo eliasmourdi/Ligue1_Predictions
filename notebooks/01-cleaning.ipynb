{
 "cells": [
  {
   "cell_type": "code",
   "execution_count": null,
   "id": "85c88dd8-f50e-4e0f-8167-5186a6bc4079",
   "metadata": {},
   "outputs": [],
   "source": [
    "import sys\n",
    "import os\n",
    "import pandas as pd\n",
    "\n",
    "sys.path.append(os.path.abspath(\"..\"))\n",
    "\n",
    "from src.config import load_config\n",
    "from src.data_prep import import_raw_aggregated_dataset, dataframe_cleaning, convert_dates_column"
   ]
  },
  {
   "cell_type": "markdown",
   "id": "9686e28c-4a00-4d5f-b8fe-877682cfed2c",
   "metadata": {},
   "source": [
    "# Raw data importation"
   ]
  },
  {
   "cell_type": "code",
   "execution_count": null,
   "id": "15134a1c-ed11-4fd5-90e5-9336990a45d7",
   "metadata": {},
   "outputs": [],
   "source": [
    "raw_df_train = import_raw_aggregated_dataset(2012, 2024, 'data/raw')\n",
    "raw_df_test = import_raw_aggregated_dataset(2024, 2025, 'data/raw')"
   ]
  },
  {
   "cell_type": "markdown",
   "id": "88ea1f1c-368e-4680-8137-78e6feb3642c",
   "metadata": {},
   "source": [
    "# Raw data cleaning"
   ]
  },
  {
   "cell_type": "code",
   "execution_count": null,
   "id": "05baf74e-9ed0-4dfc-8d05-d502d155c235",
   "metadata": {},
   "outputs": [],
   "source": [
    "cols_to_delete_train = ['Div', 'Time', 'HS', 'AS', 'HST', 'AST', 'HC', 'AC', 'HF', 'AF', 'HY', 'AY', 'HR', 'AR', 'Bb1X2', 'BbMxH', 'BbAvH', 'BbMxD',\n",
    "                        'BbAvD', 'BbMxA', 'BbAvA', 'MaxH', 'MaxD', 'MaxA', 'AvgH', 'AvgD', 'AvgA', 'BbOU', 'BbMx>2.5', 'BbMx<2.5', 'BbAv>2.5',\n",
    "                        'BbAv<2.5', 'B365>2.5', 'B365<2.5', 'P<2.5', 'P>2.5', 'Max<2.5', 'Max>2.5', 'Avg<2.5', 'Avg>2.5', 'BbAH', 'BbAHh', 'AHh',\n",
    "                        'BbMxAHH', 'BbAvAHH', 'BbMxAHA', 'BbAvAHA', 'B365AHH', 'B365AHA', 'PAHH', 'PAHA', 'MaxAHH', 'MaxAHA', 'AvgAHH', 'AvgAHA',\n",
    "                        'AvgC<2.5', 'AvgC>2.5', 'MaxC<2.5', 'MaxC>2.5', 'AHCh', 'B365CAHH', 'B365CAHA', 'PCAHH', 'PCAHA', 'MaxCAHH', 'MaxCAHA',\n",
    "                        'AvgCAHH', 'AvgCAHA', 'MaxCH', 'MaxCD', 'MaxCA', 'AvgCH', 'AvgCD', 'AvgCA', 'B365C>2.5', 'B365C<2.5', 'PC<2.5', 'PC>2.5',\n",
    "                        'PC<2.5', 'BWCA', 'IWCH', 'IWCD', 'IWCA', 'VCCH', 'VCCD', 'VCCA', 'B365CH', 'B365CD', 'B365CA', 'BWCH', 'BWCD', 'PSCH', 'PSCD',\n",
    "                        'PSCA', 'WHCH', 'WHCD', 'WHCA', 'HTHG', 'HTAG', 'HTR']\n",
    "\n",
    "cols_to_delete_test = ['Div', 'Time', 'HS', 'AS', 'HST', 'AST', 'HC', 'AC', 'HF', 'AF', 'HY', 'AY', 'HR', 'AR', 'MaxH', 'MaxD', 'MaxA', 'AvgH', 'AvgD',\n",
    "                       'AvgA', 'B365>2.5', 'B365<2.5', 'P<2.5', 'P>2.5', 'Max<2.5', 'Max>2.5', 'Avg<2.5', 'Avg>2.5', 'AHh', 'B365AHH', 'B365AHA', 'PAHH',\n",
    "                       'PAHA', 'MaxAHH', 'MaxAHA', 'AvgAHH', 'AvgAHA', 'AvgC<2.5', 'AvgC>2.5', 'MaxC<2.5', 'MaxC>2.5', 'AHCh', 'B365CAHH', 'B365CAHA',\n",
    "                       'PCAHH', 'PCAHA', 'MaxCAHH', 'MaxCAHA', 'AvgCAHH', 'AvgCAHA', 'MaxCH', 'MaxCD', 'MaxCA', 'AvgCH', 'AvgCD', 'AvgCA', 'B365C>2.5',\n",
    "                       'B365C<2.5', 'PC<2.5', 'PC>2.5', 'PC<2.5', 'BWCA', 'B365CH', 'B365CD', 'B365CA', 'BWCH', 'BWCD', 'PSCH', 'PSCD', 'PSCA', 'WHCH',\n",
    "                       'WHCD', 'WHCA', 'HTHG', 'HTAG', 'HTR', 'BFE>2.5', 'BFE<2.5', 'BFEAHH', 'BFEAHA', 'BFEC>2.5', 'BFEC<2.5', 'BFECAHH', 'BFECAHA']\n",
    "\n",
    "cols_to_rename = {'Date': 'date',\n",
    "                  'HomeTeam': 'home',\n",
    "                  'AwayTeam': 'away',\n",
    "                  'FTHG': 'nb_goals_home_final',\n",
    "                  'FTAG': 'nb_goals_away_final',\n",
    "                  'FTR': 'final_result'}\n",
    "\n",
    "values_to_rename = {'final_result': {'D': 'draw',\n",
    "                                     'H': 'home',\n",
    "                                     'A': 'away'},\n",
    "                    'home': {'Paris SG': 'PSG',\n",
    "                             'St Etienne': 'Saint-Etienne',\n",
    "                             'Evian Thonon Gaillard': 'ETG',\n",
    "                             'Ajaccio GFCO': 'Gazélec Ajaccio'},\n",
    "                    'away': {'Paris SG': 'PSG',\n",
    "                             'St Etienne': 'Saint-Etienne',\n",
    "                             'Evian Thonon Gaillard': 'ETG',\n",
    "                             'Ajaccio GFCO': 'Gazélec Ajaccio'}\n",
    "                   }\n",
    "\n",
    "\n",
    "cleaned_df_train = dataframe_cleaning(df=raw_df_train,\n",
    "                                      cols_to_delete=cols_to_delete_train,\n",
    "                                      cols_to_rename=cols_to_rename,\n",
    "                                      values_to_rename=values_to_rename)\n",
    "\n",
    "cleaned_df_test = dataframe_cleaning(df=raw_df_test,\n",
    "                                     cols_to_delete=cols_to_delete_test,\n",
    "                                     cols_to_rename=cols_to_rename,\n",
    "                                     values_to_rename=values_to_rename)"
   ]
  },
  {
   "cell_type": "code",
   "execution_count": null,
   "id": "bcb65bd2-6407-4809-9237-affff4f5a60f",
   "metadata": {},
   "outputs": [],
   "source": [
    "cleaned_df_train = convert_dates_column(df=cleaned_df_train, date_column='date')\n",
    "cleaned_df_test = convert_dates_column(df=cleaned_df_test, date_column='date')"
   ]
  },
  {
   "cell_type": "markdown",
   "id": "3decb5d7-fb21-4714-b86d-6ef3276a1d02",
   "metadata": {},
   "source": [
    "# Missing values management"
   ]
  },
  {
   "cell_type": "code",
   "execution_count": null,
   "id": "09749dc9-2747-4312-b92e-1dd66173dc22",
   "metadata": {},
   "outputs": [],
   "source": [
    "# Missing values\n",
    "\n",
    "print(f'Train dataframe: \\n{cleaned_df_train.isna().sum()} \\n')\n",
    "print(f'Test dataframe: \\n{cleaned_df_test.isna().sum()}')"
   ]
  },
  {
   "cell_type": "markdown",
   "id": "d64a57b2-3bc8-4b9d-aba9-88b3aea578fa",
   "metadata": {},
   "source": [
    "Columns with a lot of missing values (> 5% of the lines) will be deleted. Since they are odd variables, columns with less than 5% will be replaced by mean value."
   ]
  },
  {
   "cell_type": "code",
   "execution_count": null,
   "id": "1be428f9-3100-4fc8-8dde-5c103435c699",
   "metadata": {},
   "outputs": [],
   "source": [
    "cols_to_delete_train = ['GBH', 'GBD', 'GBA', 'LBH', 'LBD', 'LBA', 'SJH', 'SJD', 'SJA', 'BSH', 'BSD', 'BSA']\n",
    "cols_to_delete_test = ['BWH', 'BWD', 'BWA', 'WHH', 'WHD', 'WHA']\n",
    "\n",
    "cleaned_df_train = dataframe_cleaning(df=cleaned_df_train,\n",
    "                                      cols_to_delete=cols_to_delete_train)\n",
    "cleaned_df_test = dataframe_cleaning(df=cleaned_df_test,\n",
    "                                     cols_to_delete=cols_to_delete_test)"
   ]
  },
  {
   "cell_type": "code",
   "execution_count": null,
   "id": "3fe90248-a492-4226-9ff9-14674ebcadf0",
   "metadata": {},
   "outputs": [],
   "source": [
    "numeric_cols_train = cleaned_df_train.select_dtypes(include='number').columns\n",
    "cleaned_df_train[numeric_cols_train] = cleaned_df_train[numeric_cols_train].fillna(cleaned_df_train[numeric_cols_train].mean())\n",
    "\n",
    "numeric_cols_test = cleaned_df_test.select_dtypes(include='number').columns\n",
    "cleaned_df_test[numeric_cols_test] = cleaned_df_test[numeric_cols_test].fillna(cleaned_df_test[numeric_cols_test].mean())"
   ]
  },
  {
   "cell_type": "code",
   "execution_count": null,
   "id": "c4342834-6ee0-48b6-9e5b-2334e758dd46",
   "metadata": {},
   "outputs": [],
   "source": [
    "print(f'Train dataframe: \\n{cleaned_df_train.isna().sum()} \\n')\n",
    "print(f'Test dataframe: \\n{cleaned_df_test.isna().sum()}')"
   ]
  },
  {
   "cell_type": "markdown",
   "id": "dadc41ff-7074-4f01-8ebb-16b5a74f12bb",
   "metadata": {},
   "source": [
    "# Cleaned dataframe storage"
   ]
  },
  {
   "cell_type": "code",
   "execution_count": null,
   "id": "d1876712-4ab5-43c9-a5d1-52b5670e3c24",
   "metadata": {},
   "outputs": [],
   "source": [
    "cleaned_df_train.to_csv('../data/cleaned/cleaned_df_train.csv')\n",
    "cleaned_df_test.to_csv('../data/cleaned/cleaned_df_test.csv')"
   ]
  }
 ],
 "metadata": {
  "kernelspec": {
   "display_name": "ligue1_pred_venv_v2",
   "language": "python",
   "name": "ligue1_pred_venv"
  },
  "language_info": {
   "codemirror_mode": {
    "name": "ipython",
    "version": 3
   },
   "file_extension": ".py",
   "mimetype": "text/x-python",
   "name": "python",
   "nbconvert_exporter": "python",
   "pygments_lexer": "ipython3",
   "version": "3.11.4"
  }
 },
 "nbformat": 4,
 "nbformat_minor": 5
}
